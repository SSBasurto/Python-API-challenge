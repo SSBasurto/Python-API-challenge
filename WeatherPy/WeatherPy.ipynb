{
 "cells": [
  {
   "cell_type": "markdown",
   "metadata": {},
   "source": [
    "# WeatherPy\n",
    "----\n",
    "\n",
    "#### Note\n",
    "* Instructions have been included for each segment. You do not have to follow them exactly, but they are included to help you think through the steps."
   ]
  },
  {
   "cell_type": "code",
   "execution_count": 2,
   "metadata": {
    "scrolled": true
   },
   "outputs": [],
   "source": [
    "# Dependencies and Setup\n",
    "import matplotlib.pyplot as plt\n",
    "import pandas as pd\n",
    "import numpy as np\n",
    "import requests\n",
    "import time\n",
    "from scipy.stats import linregress\n",
    "\n",
    "# Import API key\n",
    "from api_keys import weather_api_key\n",
    "\n",
    "# Incorporated citipy to determine city based on latitude and longitude\n",
    "from citipy import citipy\n",
    "\n",
    "# Output File (CSV)\n",
    "output_data_file = \"output_data/cities.csv\"\n",
    "\n",
    "# Range of latitudes and longitudes\n",
    "lat_range = (-90, 90)\n",
    "lng_range = (-180, 180)"
   ]
  },
  {
   "cell_type": "markdown",
   "metadata": {},
   "source": [
    "## Generate Cities List"
   ]
  },
  {
   "cell_type": "code",
   "execution_count": 3,
   "metadata": {},
   "outputs": [
    {
     "data": {
      "text/plain": [
       "['ilulissat',\n",
       " 'mahebourg',\n",
       " 'kaitangata',\n",
       " 'los llanos de aridane',\n",
       " 'kavieng',\n",
       " 'cherskiy',\n",
       " 'port alfred',\n",
       " 'saint-philippe',\n",
       " 'tsihombe',\n",
       " 'norman wells',\n",
       " 'georgetown',\n",
       " 'new norfolk',\n",
       " 'atuona',\n",
       " 'jaca',\n",
       " 'nyurba',\n",
       " 'ushuaia',\n",
       " 'nikolskoye',\n",
       " 'albany',\n",
       " 'sorland',\n",
       " 'port keats',\n",
       " 'husavik',\n",
       " 'louisbourg',\n",
       " 'ibi',\n",
       " 'ndiekro',\n",
       " 'ahipara',\n",
       " 'punta arenas',\n",
       " 'newport',\n",
       " 'kutoarjo',\n",
       " 'hermanus',\n",
       " 'dianopolis',\n",
       " 'hobart',\n",
       " 'butaritari',\n",
       " 'halalo',\n",
       " 'ponta do sol',\n",
       " 'mataura',\n",
       " 'puerto ayora',\n",
       " 'barrow',\n",
       " 'bar harbor',\n",
       " 'hami',\n",
       " 'beloha',\n",
       " 'vaini',\n",
       " 'victoria',\n",
       " 'kapaa',\n",
       " 'zamhlay',\n",
       " 'rikitea',\n",
       " 'albemarle',\n",
       " 'minas',\n",
       " 'bredasdorp',\n",
       " 'dzhusaly',\n",
       " 'upernavik',\n",
       " 'cidreira',\n",
       " 'petropavlovsk-kamchatskiy',\n",
       " 'busselton',\n",
       " 'bambous virieux',\n",
       " 'provideniya',\n",
       " 'coahuayana',\n",
       " 'airai',\n",
       " 'taolanaro',\n",
       " 'coihaique',\n",
       " 'gat',\n",
       " 'barentsburg',\n",
       " 'pevek',\n",
       " 'bethanien',\n",
       " 'palmer',\n",
       " 'kahului',\n",
       " 'grand river south east',\n",
       " 'geraldton',\n",
       " 'yellowknife',\n",
       " 'nizhneyansk',\n",
       " 'riyadh',\n",
       " 'asfi',\n",
       " 'khatanga',\n",
       " 'srednekolymsk',\n",
       " 'guane',\n",
       " 'porto novo',\n",
       " 'kruisfontein',\n",
       " 'inhambane',\n",
       " 'guangyuan',\n",
       " 'winnemucca',\n",
       " 'pisco',\n",
       " 'severo-kurilsk',\n",
       " 'magistralnyy',\n",
       " 'warrnambool',\n",
       " 'arica',\n",
       " 'dikson',\n",
       " 'east london',\n",
       " 'aksha',\n",
       " 'sarahan',\n",
       " 'beruni',\n",
       " 'hackettstown',\n",
       " 'hilo',\n",
       " 'stornoway',\n",
       " 'katangli',\n",
       " 'luderitz',\n",
       " 'qaanaaq',\n",
       " 'abu samrah',\n",
       " 'castro',\n",
       " 'calella',\n",
       " 'cape town',\n",
       " 'chute-aux-outardes',\n",
       " 'port lincoln',\n",
       " 'alenquer',\n",
       " 'tashtagol',\n",
       " 'aniva',\n",
       " 'la ronge',\n",
       " 'bluff',\n",
       " 'acari',\n",
       " 'havre-saint-pierre',\n",
       " 'batagay-alyta',\n",
       " 'port blair',\n",
       " 'zmeinogorsk',\n",
       " 'moussoro',\n",
       " 'antakya',\n",
       " 'santa maria da vitoria',\n",
       " 'namtsy',\n",
       " 'lebu',\n",
       " 'mount gambier',\n",
       " 'tasiilaq',\n",
       " 'panalingaan',\n",
       " 'longyearbyen',\n",
       " 'kinablangan',\n",
       " 'kununurra',\n",
       " 'general roca',\n",
       " 'aflu',\n",
       " 'carnarvon',\n",
       " 'oytal',\n",
       " 'jamestown',\n",
       " 'katete',\n",
       " 'matiguas',\n",
       " 'college',\n",
       " 'thompson',\n",
       " 'hithadhoo',\n",
       " 'cabo san lucas',\n",
       " 'avarua',\n",
       " 'pousat',\n",
       " 'thunder bay',\n",
       " 'sitio novo do tocantins',\n",
       " 'numaligarh',\n",
       " 'vila do maio',\n",
       " 'henties bay',\n",
       " 'ponta delgada',\n",
       " 'sweetwater',\n",
       " 'amderma',\n",
       " 'port augusta',\n",
       " 'vila velha',\n",
       " 'diglur',\n",
       " 'takoradi',\n",
       " 'samusu',\n",
       " 'winburg',\n",
       " 'vila franca do campo',\n",
       " 'belushya guba',\n",
       " 'gushikawa',\n",
       " 'mys shmidta',\n",
       " 'saskylakh',\n",
       " 'wajir',\n",
       " 'najran',\n",
       " 'obo',\n",
       " 'santa cruz del sur',\n",
       " 'that phanom',\n",
       " 'chalus',\n",
       " 'marawi',\n",
       " 'olinda',\n",
       " 'hamilton',\n",
       " 'nahrin',\n",
       " 'mar del plata',\n",
       " 'vaitupu',\n",
       " 'ixtapa',\n",
       " 'tuktoyaktuk',\n",
       " 'cockburn town',\n",
       " 'carutapera',\n",
       " 'baijiantan',\n",
       " 'cayenne',\n",
       " 'mizan teferi',\n",
       " 'nome',\n",
       " 'ibra',\n",
       " 'biak',\n",
       " 'greeneville',\n",
       " 'seymchan',\n",
       " 'saint-leu',\n",
       " 'beachwood',\n",
       " 'clyde river',\n",
       " 'saint george',\n",
       " 'san pedro',\n",
       " 'guipavas',\n",
       " 'aklavik',\n",
       " 'merauke',\n",
       " 'west bay',\n",
       " 'safwah',\n",
       " 'xining',\n",
       " 'narodychi',\n",
       " 'broken hill',\n",
       " 'eydhafushi',\n",
       " 'christchurch',\n",
       " 'luwuk',\n",
       " 'seoul',\n",
       " 'jalapa',\n",
       " 'hirara',\n",
       " 'ransang',\n",
       " 'san andres',\n",
       " 'buala',\n",
       " 'ola',\n",
       " 'humberto de campos',\n",
       " 'constitucion',\n",
       " 'arraial do cabo',\n",
       " 'evanston',\n",
       " 'nagapattinam',\n",
       " 'saldanha',\n",
       " 'oga',\n",
       " 'thiers',\n",
       " 'eureka',\n",
       " 'chuy',\n",
       " 'ostersund',\n",
       " 'kalamare',\n",
       " 'lolua',\n",
       " 'othonoi',\n",
       " 'leningradskiy',\n",
       " 'rong kwang',\n",
       " 'vaitape',\n",
       " 'chokurdakh',\n",
       " 'acarau',\n",
       " 'ratnagiri',\n",
       " 'caravelas',\n",
       " 'nhulunbuy',\n",
       " 'faya',\n",
       " 'attawapiskat',\n",
       " 'sokur',\n",
       " 'souillac',\n",
       " 'paris',\n",
       " 'laguna',\n",
       " 'portland',\n",
       " 'tuatapere',\n",
       " 'jishu',\n",
       " 'surgut',\n",
       " 'port elizabeth',\n",
       " 'sumbawanga',\n",
       " 'matsanga',\n",
       " 'grindavik',\n",
       " 'daxian',\n",
       " 'pangnirtung',\n",
       " 'talnakh',\n",
       " 'blagodatnoye',\n",
       " 'tuscaloosa',\n",
       " 'lagoa',\n",
       " 'inderborskiy',\n",
       " 'tual',\n",
       " 'nanortalik',\n",
       " 'faanui',\n",
       " 'leirvik',\n",
       " 'cravo norte',\n",
       " 'northam',\n",
       " 'tiksi',\n",
       " 'tumannyy',\n",
       " 'chapais',\n",
       " 'isangel',\n",
       " 'santa rosa',\n",
       " 'dunedin',\n",
       " 'hasaki',\n",
       " 'illoqqortoormiut',\n",
       " 'ambovombe',\n",
       " 'qingdao',\n",
       " 'esqueda',\n",
       " 'cascais',\n",
       " 'lavrentiya',\n",
       " 'sinnamary',\n",
       " 'ribeira grande',\n",
       " 'alpena',\n",
       " 'alofi',\n",
       " 'dalby',\n",
       " 'lahij',\n",
       " 'tambul',\n",
       " 'orlik',\n",
       " 'nampula',\n",
       " 'komsomolskiy',\n",
       " 'rosetown',\n",
       " 'trojes',\n",
       " 'sarnia',\n",
       " 'vestmannaeyjar',\n",
       " 'vanimo',\n",
       " 'ostrovnoy',\n",
       " 'sulangan',\n",
       " 'sokode',\n",
       " 'ye',\n",
       " 'koslan',\n",
       " 'guantanamo',\n",
       " 'noumea',\n",
       " 'nishihara',\n",
       " 'karpogory',\n",
       " 'goma',\n",
       " 'huanren',\n",
       " 'bengkulu',\n",
       " 'hambantota',\n",
       " 'chimbote',\n",
       " 'san quintin',\n",
       " 'saleaula',\n",
       " 'harper',\n",
       " 'rio gallegos',\n",
       " 'broome',\n",
       " 'tevaitoa',\n",
       " 'ruatoria',\n",
       " 'mingguang',\n",
       " 'toro',\n",
       " 'bonito',\n",
       " 'jabiru',\n",
       " 'derzhavinsk',\n",
       " 'saint-francois',\n",
       " 'wamba',\n",
       " 'cochrane',\n",
       " 'mildura',\n",
       " 'sakakah',\n",
       " 'prachuap khiri khan',\n",
       " 'grootfontein',\n",
       " 'alotau',\n",
       " 'thinadhoo',\n",
       " 'nantucket',\n",
       " 'nanganga',\n",
       " 'luorong',\n",
       " 'karnal',\n",
       " 'kirensk',\n",
       " 'chikoy',\n",
       " 'kodiak',\n",
       " 'saint anthony',\n",
       " 'kachiry',\n",
       " 'taoudenni',\n",
       " 'panzhihua']"
      ]
     },
     "execution_count": 3,
     "metadata": {},
     "output_type": "execute_result"
    }
   ],
   "source": [
    "# List for holding lat_lngs and cities\n",
    "lat_lngs = []\n",
    "cities = []\n",
    "\n",
    "# Create a set of random lat and lng combinations\n",
    "lats = np.random.uniform(lat_range[0], lat_range[1], size=600)\n",
    "lngs = np.random.uniform(lng_range[0], lng_range[1], size=600)\n",
    "lat_lngs = zip(lats, lngs)\n",
    "\n",
    "# Identify nearest city for each lat, lng combination\n",
    "for lat_lng in lat_lngs:\n",
    "    city = citipy.nearest_city(lat_lng[0], lat_lng[1]).city_name\n",
    "    \n",
    "    # If the city is unique, then add it to a our cities list\n",
    "    if city not in cities:\n",
    "        cities.append(city)\n",
    "\n",
    "# Print the city count to confirm sufficient count\n",
    "len(cities)\n",
    "cities"
   ]
  },
  {
   "cell_type": "markdown",
   "metadata": {},
   "source": [
    "### Perform API Calls\n",
    "* Perform a weather check on each city using a series of successive API calls.\n",
    "* Include a print log of each city as it'sbeing processed (with the city number and city name).\n"
   ]
  },
  {
   "cell_type": "code",
   "execution_count": 4,
   "metadata": {
    "scrolled": true
   },
   "outputs": [
    {
     "name": "stdout",
     "output_type": "stream",
     "text": [
      "Beginning Data Retrieval\n",
      "-----------------------------\n",
      "Processing Record 0  of Set 1 | ilulissat.\n",
      "Processing Record 1  of Set 1 | mahebourg.\n",
      "Processing Record 2  of Set 1 | kaitangata.\n",
      "Processing Record 3  of Set 1 | los llanos de aridane.\n",
      "Processing Record 4  of Set 1 | kavieng.\n",
      "Processing Record 5  of Set 1 | cherskiy.\n",
      "Processing Record 6  of Set 1 | port alfred.\n",
      "Processing Record 7  of Set 1 | saint-philippe.\n",
      "Processing Record 8  of Set 1 | tsihombe.\n",
      "City not found...skipping tsihombe.\n",
      "Processing Record 9  of Set 1 | norman wells.\n",
      "Processing Record 10  of Set 1 | georgetown.\n",
      "Processing Record 11  of Set 1 | new norfolk.\n",
      "Processing Record 12  of Set 1 | atuona.\n",
      "Processing Record 13  of Set 1 | jaca.\n",
      "Processing Record 14  of Set 1 | nyurba.\n",
      "Processing Record 15  of Set 1 | ushuaia.\n",
      "Processing Record 16  of Set 1 | nikolskoye.\n",
      "Processing Record 17  of Set 1 | albany.\n",
      "Processing Record 18  of Set 1 | sorland.\n",
      "Processing Record 19  of Set 1 | port keats.\n",
      "Processing Record 20  of Set 1 | husavik.\n",
      "Processing Record 21  of Set 1 | louisbourg.\n",
      "City not found...skipping louisbourg.\n",
      "Processing Record 22  of Set 1 | ibi.\n",
      "Processing Record 23  of Set 1 | ndiekro.\n",
      "City not found...skipping ndiekro.\n",
      "Processing Record 24  of Set 1 | ahipara.\n",
      "Processing Record 25  of Set 1 | punta arenas.\n",
      "Processing Record 26  of Set 1 | newport.\n",
      "Processing Record 27  of Set 1 | kutoarjo.\n",
      "Processing Record 28  of Set 1 | hermanus.\n",
      "Processing Record 29  of Set 1 | dianopolis.\n",
      "City not found...skipping dianopolis.\n",
      "Processing Record 30  of Set 1 | hobart.\n",
      "Processing Record 31  of Set 1 | butaritari.\n",
      "Processing Record 32  of Set 1 | halalo.\n",
      "City not found...skipping halalo.\n",
      "Processing Record 33  of Set 1 | ponta do sol.\n",
      "Processing Record 34  of Set 1 | mataura.\n",
      "Processing Record 35  of Set 1 | puerto ayora.\n",
      "Processing Record 36  of Set 1 | barrow.\n",
      "Processing Record 37  of Set 1 | bar harbor.\n",
      "Processing Record 38  of Set 1 | hami.\n",
      "Processing Record 39  of Set 1 | beloha.\n",
      "Processing Record 40  of Set 1 | vaini.\n",
      "Processing Record 41  of Set 1 | victoria.\n",
      "Processing Record 42  of Set 1 | kapaa.\n",
      "Processing Record 43  of Set 1 | zamhlay.\n",
      "City not found...skipping zamhlay.\n",
      "Processing Record 44  of Set 1 | rikitea.\n",
      "Processing Record 45  of Set 1 | albemarle.\n",
      "Processing Record 46  of Set 1 | minas.\n",
      "Processing Record 47  of Set 1 | bredasdorp.\n",
      "Processing Record 48  of Set 1 | dzhusaly.\n",
      "City not found...skipping dzhusaly.\n",
      "Processing Record 49  of Set 1 | upernavik.\n",
      "Processing Record 0  of Set 2 | cidreira.\n",
      "Processing Record 1  of Set 2 | petropavlovsk-kamchatskiy.\n",
      "Processing Record 2  of Set 2 | busselton.\n",
      "Processing Record 3  of Set 2 | bambous virieux.\n",
      "Processing Record 4  of Set 2 | provideniya.\n",
      "Processing Record 5  of Set 2 | coahuayana.\n",
      "Processing Record 6  of Set 2 | airai.\n",
      "Processing Record 7  of Set 2 | taolanaro.\n",
      "City not found...skipping taolanaro.\n",
      "Processing Record 8  of Set 2 | coihaique.\n",
      "Processing Record 9  of Set 2 | gat.\n",
      "Processing Record 10  of Set 2 | barentsburg.\n",
      "City not found...skipping barentsburg.\n",
      "Processing Record 11  of Set 2 | pevek.\n",
      "Processing Record 12  of Set 2 | bethanien.\n",
      "Processing Record 13  of Set 2 | palmer.\n",
      "Processing Record 14  of Set 2 | kahului.\n",
      "Processing Record 15  of Set 2 | grand river south east.\n",
      "City not found...skipping grand river south east.\n",
      "Processing Record 16  of Set 2 | geraldton.\n",
      "Processing Record 17  of Set 2 | yellowknife.\n",
      "Processing Record 18  of Set 2 | nizhneyansk.\n",
      "City not found...skipping nizhneyansk.\n",
      "Processing Record 19  of Set 2 | riyadh.\n",
      "Processing Record 20  of Set 2 | asfi.\n",
      "Processing Record 21  of Set 2 | khatanga.\n",
      "Processing Record 22  of Set 2 | srednekolymsk.\n",
      "Processing Record 23  of Set 2 | guane.\n",
      "Processing Record 24  of Set 2 | porto novo.\n",
      "Processing Record 25  of Set 2 | kruisfontein.\n",
      "Processing Record 26  of Set 2 | inhambane.\n",
      "Processing Record 27  of Set 2 | guangyuan.\n",
      "Processing Record 28  of Set 2 | winnemucca.\n",
      "Processing Record 29  of Set 2 | pisco.\n",
      "Processing Record 30  of Set 2 | severo-kurilsk.\n",
      "Processing Record 31  of Set 2 | magistralnyy.\n",
      "Processing Record 32  of Set 2 | warrnambool.\n",
      "Processing Record 33  of Set 2 | arica.\n",
      "Processing Record 34  of Set 2 | dikson.\n",
      "Processing Record 35  of Set 2 | east london.\n",
      "Processing Record 36  of Set 2 | aksha.\n",
      "Processing Record 37  of Set 2 | sarahan.\n",
      "Processing Record 38  of Set 2 | beruni.\n",
      "City not found...skipping beruni.\n",
      "Processing Record 39  of Set 2 | hackettstown.\n",
      "Processing Record 40  of Set 2 | hilo.\n",
      "Processing Record 41  of Set 2 | stornoway.\n",
      "Processing Record 42  of Set 2 | katangli.\n",
      "Processing Record 43  of Set 2 | luderitz.\n",
      "Processing Record 44  of Set 2 | qaanaaq.\n",
      "Processing Record 45  of Set 2 | abu samrah.\n",
      "Processing Record 46  of Set 2 | castro.\n",
      "Processing Record 47  of Set 2 | calella.\n",
      "Processing Record 48  of Set 2 | cape town.\n",
      "Processing Record 49  of Set 2 | chute-aux-outardes.\n",
      "Processing Record 0  of Set 3 | port lincoln.\n",
      "Processing Record 1  of Set 3 | alenquer.\n",
      "Processing Record 2  of Set 3 | tashtagol.\n",
      "Processing Record 3  of Set 3 | aniva.\n",
      "Processing Record 4  of Set 3 | la ronge.\n",
      "Processing Record 5  of Set 3 | bluff.\n",
      "Processing Record 6  of Set 3 | acari.\n",
      "Processing Record 7  of Set 3 | havre-saint-pierre.\n",
      "Processing Record 8  of Set 3 | batagay-alyta.\n",
      "Processing Record 9  of Set 3 | port blair.\n",
      "Processing Record 10  of Set 3 | zmeinogorsk.\n",
      "Processing Record 11  of Set 3 | moussoro.\n",
      "Processing Record 12  of Set 3 | antakya.\n",
      "Processing Record 13  of Set 3 | santa maria da vitoria.\n",
      "Processing Record 14  of Set 3 | namtsy.\n",
      "Processing Record 15  of Set 3 | lebu.\n",
      "Processing Record 16  of Set 3 | mount gambier.\n",
      "Processing Record 17  of Set 3 | tasiilaq.\n",
      "Processing Record 18  of Set 3 | panalingaan.\n",
      "Processing Record 19  of Set 3 | longyearbyen.\n",
      "Processing Record 20  of Set 3 | kinablangan.\n",
      "Processing Record 21  of Set 3 | kununurra.\n",
      "Processing Record 22  of Set 3 | general roca.\n",
      "Processing Record 23  of Set 3 | aflu.\n",
      "City not found...skipping aflu.\n",
      "Processing Record 24  of Set 3 | carnarvon.\n",
      "Processing Record 25  of Set 3 | oytal.\n",
      "Processing Record 26  of Set 3 | jamestown.\n",
      "Processing Record 27  of Set 3 | katete.\n",
      "Processing Record 28  of Set 3 | matiguas.\n",
      "Processing Record 29  of Set 3 | college.\n",
      "Processing Record 30  of Set 3 | thompson.\n",
      "Processing Record 31  of Set 3 | hithadhoo.\n",
      "Processing Record 32  of Set 3 | cabo san lucas.\n",
      "Processing Record 33  of Set 3 | avarua.\n",
      "Processing Record 34  of Set 3 | pousat.\n",
      "City not found...skipping pousat.\n",
      "Processing Record 35  of Set 3 | thunder bay.\n",
      "Processing Record 36  of Set 3 | sitio novo do tocantins.\n",
      "Processing Record 37  of Set 3 | numaligarh.\n",
      "Processing Record 38  of Set 3 | vila do maio.\n",
      "Processing Record 39  of Set 3 | henties bay.\n",
      "Processing Record 40  of Set 3 | ponta delgada.\n",
      "Processing Record 41  of Set 3 | sweetwater.\n",
      "Processing Record 42  of Set 3 | amderma.\n",
      "City not found...skipping amderma.\n",
      "Processing Record 43  of Set 3 | port augusta.\n",
      "Processing Record 44  of Set 3 | vila velha.\n",
      "Processing Record 45  of Set 3 | diglur.\n",
      "Processing Record 46  of Set 3 | takoradi.\n",
      "Processing Record 47  of Set 3 | samusu.\n",
      "City not found...skipping samusu.\n",
      "Processing Record 48  of Set 3 | winburg.\n",
      "Processing Record 49  of Set 3 | vila franca do campo.\n",
      "Processing Record 0  of Set 4 | belushya guba.\n",
      "City not found...skipping belushya guba.\n",
      "Processing Record 1  of Set 4 | gushikawa.\n",
      "Processing Record 2  of Set 4 | mys shmidta.\n",
      "City not found...skipping mys shmidta.\n",
      "Processing Record 3  of Set 4 | saskylakh.\n",
      "Processing Record 4  of Set 4 | wajir.\n",
      "Processing Record 5  of Set 4 | najran.\n",
      "Processing Record 6  of Set 4 | obo.\n",
      "Processing Record 7  of Set 4 | santa cruz del sur.\n",
      "Processing Record 8  of Set 4 | that phanom.\n",
      "Processing Record 9  of Set 4 | chalus.\n",
      "Processing Record 10  of Set 4 | marawi.\n",
      "Processing Record 11  of Set 4 | olinda.\n",
      "Processing Record 12  of Set 4 | hamilton.\n",
      "Processing Record 13  of Set 4 | nahrin.\n",
      "Processing Record 14  of Set 4 | mar del plata.\n",
      "Processing Record 15  of Set 4 | vaitupu.\n",
      "City not found...skipping vaitupu.\n",
      "Processing Record 16  of Set 4 | ixtapa.\n",
      "Processing Record 17  of Set 4 | tuktoyaktuk.\n",
      "Processing Record 18  of Set 4 | cockburn town.\n",
      "Processing Record 19  of Set 4 | carutapera.\n",
      "Processing Record 20  of Set 4 | baijiantan.\n",
      "Processing Record 21  of Set 4 | cayenne.\n",
      "Processing Record 22  of Set 4 | mizan teferi.\n",
      "Processing Record 23  of Set 4 | nome.\n",
      "Processing Record 24  of Set 4 | ibra.\n",
      "Processing Record 25  of Set 4 | biak.\n",
      "Processing Record 26  of Set 4 | greeneville.\n",
      "Processing Record 27  of Set 4 | seymchan.\n",
      "Processing Record 28  of Set 4 | saint-leu.\n",
      "Processing Record 29  of Set 4 | beachwood.\n",
      "Processing Record 30  of Set 4 | clyde river.\n",
      "Processing Record 31  of Set 4 | saint george.\n",
      "Processing Record 32  of Set 4 | san pedro.\n",
      "Processing Record 33  of Set 4 | guipavas.\n",
      "Processing Record 34  of Set 4 | aklavik.\n",
      "Processing Record 35  of Set 4 | merauke.\n",
      "Processing Record 36  of Set 4 | west bay.\n",
      "Processing Record 37  of Set 4 | safwah.\n",
      "City not found...skipping safwah.\n",
      "Processing Record 38  of Set 4 | xining.\n",
      "Processing Record 39  of Set 4 | narodychi.\n",
      "Processing Record 40  of Set 4 | broken hill.\n",
      "Processing Record 41  of Set 4 | eydhafushi.\n",
      "Processing Record 42  of Set 4 | christchurch.\n",
      "Processing Record 43  of Set 4 | luwuk.\n",
      "Processing Record 44  of Set 4 | seoul.\n",
      "Processing Record 45  of Set 4 | jalapa.\n",
      "Processing Record 46  of Set 4 | hirara.\n",
      "Processing Record 47  of Set 4 | ransang.\n",
      "Processing Record 48  of Set 4 | san andres.\n",
      "Processing Record 49  of Set 4 | buala.\n",
      "Processing Record 0  of Set 5 | ola.\n",
      "Processing Record 1  of Set 5 | humberto de campos.\n",
      "Processing Record 2  of Set 5 | constitucion.\n",
      "Processing Record 3  of Set 5 | arraial do cabo.\n",
      "Processing Record 4  of Set 5 | evanston.\n",
      "Processing Record 5  of Set 5 | nagapattinam.\n",
      "Processing Record 6  of Set 5 | saldanha.\n",
      "Processing Record 7  of Set 5 | oga.\n",
      "Processing Record 8  of Set 5 | thiers.\n",
      "Processing Record 9  of Set 5 | eureka.\n",
      "Processing Record 10  of Set 5 | chuy.\n",
      "Processing Record 11  of Set 5 | ostersund.\n",
      "Processing Record 12  of Set 5 | kalamare.\n",
      "Processing Record 13  of Set 5 | lolua.\n",
      "City not found...skipping lolua.\n",
      "Processing Record 14  of Set 5 | othonoi.\n",
      "City not found...skipping othonoi.\n",
      "Processing Record 15  of Set 5 | leningradskiy.\n",
      "Processing Record 16  of Set 5 | rong kwang.\n",
      "Processing Record 17  of Set 5 | vaitape.\n",
      "Processing Record 18  of Set 5 | chokurdakh.\n",
      "Processing Record 19  of Set 5 | acarau.\n",
      "Processing Record 20  of Set 5 | ratnagiri.\n",
      "Processing Record 21  of Set 5 | caravelas.\n",
      "Processing Record 22  of Set 5 | nhulunbuy.\n",
      "Processing Record 23  of Set 5 | faya.\n",
      "Processing Record 24  of Set 5 | attawapiskat.\n",
      "City not found...skipping attawapiskat.\n",
      "Processing Record 25  of Set 5 | sokur.\n",
      "Processing Record 26  of Set 5 | souillac.\n",
      "Processing Record 27  of Set 5 | paris.\n",
      "Processing Record 28  of Set 5 | laguna.\n",
      "Processing Record 29  of Set 5 | portland.\n",
      "Processing Record 30  of Set 5 | tuatapere.\n",
      "Processing Record 31  of Set 5 | jishu.\n",
      "Processing Record 32  of Set 5 | surgut.\n",
      "Processing Record 33  of Set 5 | port elizabeth.\n",
      "Processing Record 34  of Set 5 | sumbawanga.\n",
      "Processing Record 35  of Set 5 | matsanga.\n",
      "City not found...skipping matsanga.\n",
      "Processing Record 36  of Set 5 | grindavik.\n",
      "Processing Record 37  of Set 5 | daxian.\n",
      "City not found...skipping daxian.\n",
      "Processing Record 38  of Set 5 | pangnirtung.\n",
      "Processing Record 39  of Set 5 | talnakh.\n",
      "Processing Record 40  of Set 5 | blagodatnoye.\n",
      "Processing Record 41  of Set 5 | tuscaloosa.\n",
      "Processing Record 42  of Set 5 | lagoa.\n",
      "Processing Record 43  of Set 5 | inderborskiy.\n",
      "City not found...skipping inderborskiy.\n",
      "Processing Record 44  of Set 5 | tual.\n",
      "Processing Record 45  of Set 5 | nanortalik.\n",
      "Processing Record 46  of Set 5 | faanui.\n",
      "Processing Record 47  of Set 5 | leirvik.\n",
      "Processing Record 48  of Set 5 | cravo norte.\n",
      "Processing Record 49  of Set 5 | northam.\n",
      "Processing Record 0  of Set 6 | tiksi.\n",
      "Processing Record 1  of Set 6 | tumannyy.\n",
      "City not found...skipping tumannyy.\n",
      "Processing Record 2  of Set 6 | chapais.\n",
      "Processing Record 3  of Set 6 | isangel.\n",
      "Processing Record 4  of Set 6 | santa rosa.\n",
      "Processing Record 5  of Set 6 | dunedin.\n",
      "Processing Record 6  of Set 6 | hasaki.\n",
      "Processing Record 7  of Set 6 | illoqqortoormiut.\n",
      "City not found...skipping illoqqortoormiut.\n",
      "Processing Record 8  of Set 6 | ambovombe.\n",
      "Processing Record 9  of Set 6 | qingdao.\n",
      "Processing Record 10  of Set 6 | esqueda.\n",
      "Processing Record 11  of Set 6 | cascais.\n",
      "Processing Record 12  of Set 6 | lavrentiya.\n",
      "Processing Record 13  of Set 6 | sinnamary.\n",
      "Processing Record 14  of Set 6 | ribeira grande.\n",
      "Processing Record 15  of Set 6 | alpena.\n",
      "Processing Record 16  of Set 6 | alofi.\n",
      "Processing Record 17  of Set 6 | dalby.\n",
      "Processing Record 18  of Set 6 | lahij.\n",
      "Processing Record 19  of Set 6 | tambul.\n",
      "City not found...skipping tambul.\n",
      "Processing Record 20  of Set 6 | orlik.\n",
      "Processing Record 21  of Set 6 | nampula.\n",
      "Processing Record 22  of Set 6 | komsomolskiy.\n",
      "Processing Record 23  of Set 6 | rosetown.\n",
      "Processing Record 24  of Set 6 | trojes.\n",
      "Processing Record 25  of Set 6 | sarnia.\n",
      "Processing Record 26  of Set 6 | vestmannaeyjar.\n",
      "Processing Record 27  of Set 6 | vanimo.\n",
      "Processing Record 28  of Set 6 | ostrovnoy.\n",
      "Processing Record 29  of Set 6 | sulangan.\n",
      "Processing Record 30  of Set 6 | sokode.\n",
      "Processing Record 31  of Set 6 | ye.\n",
      "City not found...skipping ye.\n",
      "Processing Record 32  of Set 6 | koslan.\n",
      "Processing Record 33  of Set 6 | guantanamo.\n",
      "Processing Record 34  of Set 6 | noumea.\n",
      "Processing Record 35  of Set 6 | nishihara.\n",
      "Processing Record 36  of Set 6 | karpogory.\n",
      "Processing Record 37  of Set 6 | goma.\n",
      "Processing Record 38  of Set 6 | huanren.\n",
      "Processing Record 39  of Set 6 | bengkulu.\n",
      "Processing Record 40  of Set 6 | hambantota.\n",
      "Processing Record 41  of Set 6 | chimbote.\n",
      "Processing Record 42  of Set 6 | san quintin.\n",
      "Processing Record 43  of Set 6 | saleaula.\n",
      "City not found...skipping saleaula.\n",
      "Processing Record 44  of Set 6 | harper.\n",
      "Processing Record 45  of Set 6 | rio gallegos.\n",
      "Processing Record 46  of Set 6 | broome.\n",
      "Processing Record 47  of Set 6 | tevaitoa.\n",
      "Processing Record 48  of Set 6 | ruatoria.\n",
      "City not found...skipping ruatoria.\n",
      "Processing Record 49  of Set 6 | mingguang.\n",
      "Processing Record 0  of Set 7 | toro.\n",
      "Processing Record 1  of Set 7 | bonito.\n",
      "Processing Record 2  of Set 7 | jabiru.\n",
      "City not found...skipping jabiru.\n",
      "Processing Record 3  of Set 7 | derzhavinsk.\n",
      "Processing Record 4  of Set 7 | saint-francois.\n",
      "Processing Record 5  of Set 7 | wamba.\n",
      "Processing Record 6  of Set 7 | cochrane.\n",
      "Processing Record 7  of Set 7 | mildura.\n",
      "Processing Record 8  of Set 7 | sakakah.\n",
      "Processing Record 9  of Set 7 | prachuap khiri khan.\n",
      "Processing Record 10  of Set 7 | grootfontein.\n",
      "Processing Record 11  of Set 7 | alotau.\n",
      "City not found...skipping alotau.\n",
      "Processing Record 12  of Set 7 | thinadhoo.\n",
      "Processing Record 13  of Set 7 | nantucket.\n",
      "Processing Record 14  of Set 7 | nanganga.\n",
      "Processing Record 15  of Set 7 | luorong.\n",
      "Processing Record 16  of Set 7 | karnal.\n",
      "Processing Record 17  of Set 7 | kirensk.\n",
      "Processing Record 18  of Set 7 | chikoy.\n",
      "City not found...skipping chikoy.\n",
      "Processing Record 19  of Set 7 | kodiak.\n",
      "Processing Record 20  of Set 7 | saint anthony.\n",
      "Processing Record 21  of Set 7 | kachiry.\n",
      "Processing Record 22  of Set 7 | taoudenni.\n",
      "Processing Record 23  of Set 7 | panzhihua.\n",
      "----------------------------\n",
      "Data Retrieval Complete\n",
      "----------------------------\n"
     ]
    }
   ],
   "source": [
    "# Base URL                         \n",
    "base_url = \"http://api.openweathermap.org/data/2.5/weather?\"\n",
    "units = \"Imperial\"\n",
    "\n",
    "# Counter to go through data\n",
    "record = 0\n",
    "sets = 1\n",
    "\n",
    "# Create DataFrame\n",
    "weather_df = pd.DataFrame({\"City\": cities})\n",
    "\n",
    "weather_df[\"Country\"] = \"\"     \n",
    "weather_df[\"Latitude\"] = \"\"\n",
    "weather_df[\"Longitude\"] = \"\"\n",
    "weather_df[\"Cloudiness (%)\"] = \"\"\n",
    "weather_df[\"Humidity (%)\"] = \"\"\n",
    "weather_df[\"Max Temp (F)\"] = \"\"\n",
    "weather_df[\"Wind Speed (mph)\"] = \"\"\n",
    "weather_df[\"Date\"] = \"\" \n",
    "\n",
    "\n",
    "# Interate through Cities and retrieve data\n",
    "print(\"Beginning Data Retrieval\")\n",
    "print(\"-----------------------------\")\n",
    "\n",
    "\n",
    "for index, row in weather_df.iterrows():\n",
    "    \n",
    "    city = row[\"City\"]\n",
    "    \n",
    "    query_url = base_url + \"appid=\" + weather_api_key + '&units='+ units + \"&q=\" + city \n",
    "    weather_response = requests.get(query_url).json()\n",
    " \n",
    "    try:\n",
    "        print(f\"Processing Record {record}  of Set {sets} | {city}.\")\n",
    "        \n",
    "        \n",
    "        weather_df.loc[index, \"Country\"] = weather_response[\"sys\"][\"country\"]     \n",
    "        weather_df.loc[index, \"Date\"] = weather_response[\"dt\"]\n",
    "        weather_df.loc[index, \"Latitude\"] = weather_response[\"coord\"][\"lat\"]\n",
    "        weather_df.loc[index, \"Longitude\"] = weather_response[\"coord\"][\"lon\"]\n",
    "        weather_df.loc[index, \"Cloudiness (%)\"] = weather_response[\"clouds\"][\"all\"]\n",
    "        weather_df.loc[index, \"Humidity (%)\"] = weather_response[\"main\"][\"humidity\"]\n",
    "        weather_df.loc[index, \"Max Temp (F)\"] = weather_response[\"main\"][\"temp_max\"]\n",
    "        weather_df.loc[index, \"Wind Speed (mph)\"] = weather_response[\"wind\"][\"speed\"]\n",
    "               \n",
    "    except:\n",
    "        print(f\"City not found...skipping {city}.\")\n",
    "       \n",
    "        \n",
    "    \n",
    "    record = record + 1\n",
    "    if record == 50:\n",
    "        record = 0\n",
    "        sets = sets + 1 \n",
    "\n",
    "print(\"----------------------------\")        \n",
    "print(\"Data Retrieval Complete\")\n",
    "print(\"----------------------------\")"
   ]
  },
  {
   "cell_type": "code",
   "execution_count": 10,
   "metadata": {},
   "outputs": [
    {
     "data": {
      "text/plain": [
       "City                object\n",
       "Country             object\n",
       "Latitude            object\n",
       "Longitude           object\n",
       "Cloudiness (%)      object\n",
       "Humidity (%)        object\n",
       "Max Temp (F)        object\n",
       "Wind Speed (mph)    object\n",
       "Date                object\n",
       "dtype: object"
      ]
     },
     "execution_count": 10,
     "metadata": {},
     "output_type": "execute_result"
    }
   ],
   "source": [
    "weather_df.dtypes"
   ]
  },
  {
   "cell_type": "code",
   "execution_count": 14,
   "metadata": {},
   "outputs": [],
   "source": [
    "# Convert data strings to float\n",
    "weather_df[\"Cloudiness (%)\"] = pd.to_numeric(weather_df[\"Cloudiness (%)\"]).astype(float)\n",
    "weather_df[\"Humidity (%)\"] = pd.to_numeric(weather_df[\"Humidity (%)\"]).astype(float)\n",
    "weather_df[\"Latitude\"] = pd.to_numeric(weather_df[\"Latitude\"]).astype(float)\n",
    "weather_df[\"Longitude\"] = pd.to_numeric(weather_df[\"Longitude\"]).astype(float)\n",
    "weather_df[\"Max Temp (F)\"] = pd.to_numeric(weather_df[\"Max Temp (F)\"]).astype(float)\n",
    "weather_df[\"Wind Speed (mph)\"] = pd.to_numeric(weather_df[\"Wind Speed (mph)\"]).astype(float)\n"
   ]
  },
  {
   "cell_type": "markdown",
   "metadata": {},
   "source": [
    "### Convert Raw Data to DataFrame\n",
    "* Export the city data into a .csv.\n",
    "* Display the DataFrame"
   ]
  },
  {
   "cell_type": "code",
   "execution_count": 15,
   "metadata": {},
   "outputs": [
    {
     "data": {
      "text/html": [
       "<div>\n",
       "<style scoped>\n",
       "    .dataframe tbody tr th:only-of-type {\n",
       "        vertical-align: middle;\n",
       "    }\n",
       "\n",
       "    .dataframe tbody tr th {\n",
       "        vertical-align: top;\n",
       "    }\n",
       "\n",
       "    .dataframe thead th {\n",
       "        text-align: right;\n",
       "    }\n",
       "</style>\n",
       "<table border=\"1\" class=\"dataframe\">\n",
       "  <thead>\n",
       "    <tr style=\"text-align: right;\">\n",
       "      <th></th>\n",
       "      <th>City</th>\n",
       "      <th>Country</th>\n",
       "      <th>Latitude</th>\n",
       "      <th>Longitude</th>\n",
       "      <th>Cloudiness (%)</th>\n",
       "      <th>Humidity (%)</th>\n",
       "      <th>Max Temp (F)</th>\n",
       "      <th>Wind Speed (mph)</th>\n",
       "      <th>Date</th>\n",
       "    </tr>\n",
       "  </thead>\n",
       "  <tbody>\n",
       "    <tr>\n",
       "      <th>0</th>\n",
       "      <td>ilulissat</td>\n",
       "      <td>GL</td>\n",
       "      <td>69.2167</td>\n",
       "      <td>-51.1000</td>\n",
       "      <td>100.0</td>\n",
       "      <td>93.0</td>\n",
       "      <td>30.22</td>\n",
       "      <td>0.00</td>\n",
       "      <td>1.664596e+09</td>\n",
       "    </tr>\n",
       "    <tr>\n",
       "      <th>1</th>\n",
       "      <td>mahebourg</td>\n",
       "      <td>MU</td>\n",
       "      <td>-20.4081</td>\n",
       "      <td>57.7000</td>\n",
       "      <td>75.0</td>\n",
       "      <td>68.0</td>\n",
       "      <td>70.09</td>\n",
       "      <td>12.66</td>\n",
       "      <td>1.664596e+09</td>\n",
       "    </tr>\n",
       "    <tr>\n",
       "      <th>2</th>\n",
       "      <td>kaitangata</td>\n",
       "      <td>NZ</td>\n",
       "      <td>-46.2817</td>\n",
       "      <td>169.8464</td>\n",
       "      <td>0.0</td>\n",
       "      <td>59.0</td>\n",
       "      <td>48.33</td>\n",
       "      <td>5.50</td>\n",
       "      <td>1.664596e+09</td>\n",
       "    </tr>\n",
       "    <tr>\n",
       "      <th>3</th>\n",
       "      <td>los llanos de aridane</td>\n",
       "      <td>ES</td>\n",
       "      <td>28.6585</td>\n",
       "      <td>-17.9182</td>\n",
       "      <td>100.0</td>\n",
       "      <td>84.0</td>\n",
       "      <td>65.95</td>\n",
       "      <td>10.36</td>\n",
       "      <td>1.664596e+09</td>\n",
       "    </tr>\n",
       "    <tr>\n",
       "      <th>4</th>\n",
       "      <td>kavieng</td>\n",
       "      <td>PG</td>\n",
       "      <td>-2.5744</td>\n",
       "      <td>150.7967</td>\n",
       "      <td>73.0</td>\n",
       "      <td>73.0</td>\n",
       "      <td>82.98</td>\n",
       "      <td>13.53</td>\n",
       "      <td>1.664596e+09</td>\n",
       "    </tr>\n",
       "  </tbody>\n",
       "</table>\n",
       "</div>"
      ],
      "text/plain": [
       "                    City Country  Latitude  Longitude  Cloudiness (%)  \\\n",
       "0              ilulissat      GL   69.2167   -51.1000           100.0   \n",
       "1              mahebourg      MU  -20.4081    57.7000            75.0   \n",
       "2             kaitangata      NZ  -46.2817   169.8464             0.0   \n",
       "3  los llanos de aridane      ES   28.6585   -17.9182           100.0   \n",
       "4                kavieng      PG   -2.5744   150.7967            73.0   \n",
       "\n",
       "   Humidity (%)  Max Temp (F)  Wind Speed (mph)          Date  \n",
       "0          93.0         30.22              0.00  1.664596e+09  \n",
       "1          68.0         70.09             12.66  1.664596e+09  \n",
       "2          59.0         48.33              5.50  1.664596e+09  \n",
       "3          84.0         65.95             10.36  1.664596e+09  \n",
       "4          73.0         82.98             13.53  1.664596e+09  "
      ]
     },
     "execution_count": 15,
     "metadata": {},
     "output_type": "execute_result"
    }
   ],
   "source": [
    "#Save Output File to csv\n",
    "\n",
    "weather_df.to_csv(\"cities.csv\")\n",
    "\n",
    "weather_df.head()"
   ]
  },
  {
   "cell_type": "code",
   "execution_count": 16,
   "metadata": {},
   "outputs": [
    {
     "data": {
      "text/html": [
       "<div>\n",
       "<style scoped>\n",
       "    .dataframe tbody tr th:only-of-type {\n",
       "        vertical-align: middle;\n",
       "    }\n",
       "\n",
       "    .dataframe tbody tr th {\n",
       "        vertical-align: top;\n",
       "    }\n",
       "\n",
       "    .dataframe thead th {\n",
       "        text-align: right;\n",
       "    }\n",
       "</style>\n",
       "<table border=\"1\" class=\"dataframe\">\n",
       "  <thead>\n",
       "    <tr style=\"text-align: right;\">\n",
       "      <th></th>\n",
       "      <th>Latitude</th>\n",
       "      <th>Longitude</th>\n",
       "      <th>Cloudiness (%)</th>\n",
       "      <th>Humidity (%)</th>\n",
       "      <th>Max Temp (F)</th>\n",
       "      <th>Wind Speed (mph)</th>\n",
       "      <th>Date</th>\n",
       "    </tr>\n",
       "  </thead>\n",
       "  <tbody>\n",
       "    <tr>\n",
       "      <th>count</th>\n",
       "      <td>289.000000</td>\n",
       "      <td>289.000000</td>\n",
       "      <td>289.000000</td>\n",
       "      <td>289.000000</td>\n",
       "      <td>289.000000</td>\n",
       "      <td>289.000000</td>\n",
       "      <td>2.890000e+02</td>\n",
       "    </tr>\n",
       "    <tr>\n",
       "      <th>mean</th>\n",
       "      <td>18.124895</td>\n",
       "      <td>16.900913</td>\n",
       "      <td>52.806228</td>\n",
       "      <td>72.975779</td>\n",
       "      <td>62.105882</td>\n",
       "      <td>7.699135</td>\n",
       "      <td>1.664596e+09</td>\n",
       "    </tr>\n",
       "    <tr>\n",
       "      <th>std</th>\n",
       "      <td>35.079255</td>\n",
       "      <td>95.402179</td>\n",
       "      <td>40.632719</td>\n",
       "      <td>18.144753</td>\n",
       "      <td>17.354751</td>\n",
       "      <td>5.416174</td>\n",
       "      <td>6.924974e+01</td>\n",
       "    </tr>\n",
       "    <tr>\n",
       "      <th>min</th>\n",
       "      <td>-54.800000</td>\n",
       "      <td>-175.200000</td>\n",
       "      <td>0.000000</td>\n",
       "      <td>15.000000</td>\n",
       "      <td>13.710000</td>\n",
       "      <td>0.000000</td>\n",
       "      <td>1.664596e+09</td>\n",
       "    </tr>\n",
       "    <tr>\n",
       "      <th>25%</th>\n",
       "      <td>-13.394700</td>\n",
       "      <td>-69.363200</td>\n",
       "      <td>8.000000</td>\n",
       "      <td>64.000000</td>\n",
       "      <td>49.230000</td>\n",
       "      <td>3.440000</td>\n",
       "      <td>1.664596e+09</td>\n",
       "    </tr>\n",
       "    <tr>\n",
       "      <th>50%</th>\n",
       "      <td>21.461200</td>\n",
       "      <td>19.962000</td>\n",
       "      <td>57.000000</td>\n",
       "      <td>76.000000</td>\n",
       "      <td>63.680000</td>\n",
       "      <td>6.710000</td>\n",
       "      <td>1.664596e+09</td>\n",
       "    </tr>\n",
       "    <tr>\n",
       "      <th>75%</th>\n",
       "      <td>46.415400</td>\n",
       "      <td>104.710400</td>\n",
       "      <td>99.000000</td>\n",
       "      <td>87.000000</td>\n",
       "      <td>77.630000</td>\n",
       "      <td>10.760000</td>\n",
       "      <td>1.664596e+09</td>\n",
       "    </tr>\n",
       "    <tr>\n",
       "      <th>max</th>\n",
       "      <td>78.218600</td>\n",
       "      <td>178.416700</td>\n",
       "      <td>100.000000</td>\n",
       "      <td>100.000000</td>\n",
       "      <td>91.710000</td>\n",
       "      <td>29.930000</td>\n",
       "      <td>1.664596e+09</td>\n",
       "    </tr>\n",
       "  </tbody>\n",
       "</table>\n",
       "</div>"
      ],
      "text/plain": [
       "         Latitude   Longitude  Cloudiness (%)  Humidity (%)  Max Temp (F)  \\\n",
       "count  289.000000  289.000000      289.000000    289.000000    289.000000   \n",
       "mean    18.124895   16.900913       52.806228     72.975779     62.105882   \n",
       "std     35.079255   95.402179       40.632719     18.144753     17.354751   \n",
       "min    -54.800000 -175.200000        0.000000     15.000000     13.710000   \n",
       "25%    -13.394700  -69.363200        8.000000     64.000000     49.230000   \n",
       "50%     21.461200   19.962000       57.000000     76.000000     63.680000   \n",
       "75%     46.415400  104.710400       99.000000     87.000000     77.630000   \n",
       "max     78.218600  178.416700      100.000000    100.000000     91.710000   \n",
       "\n",
       "       Wind Speed (mph)          Date  \n",
       "count        289.000000  2.890000e+02  \n",
       "mean           7.699135  1.664596e+09  \n",
       "std            5.416174  6.924974e+01  \n",
       "min            0.000000  1.664596e+09  \n",
       "25%            3.440000  1.664596e+09  \n",
       "50%            6.710000  1.664596e+09  \n",
       "75%           10.760000  1.664596e+09  \n",
       "max           29.930000  1.664596e+09  "
      ]
     },
     "execution_count": 16,
     "metadata": {},
     "output_type": "execute_result"
    }
   ],
   "source": [
    "weather_df.describe()"
   ]
  },
  {
   "cell_type": "markdown",
   "metadata": {},
   "source": [
    "## Inspect the data and remove the cities where the humidity > 100%.\n",
    "----\n",
    "Skip this step if there are no cities that have humidity > 100%. "
   ]
  },
  {
   "cell_type": "code",
   "execution_count": 20,
   "metadata": {},
   "outputs": [
    {
     "data": {
      "text/html": [
       "<div>\n",
       "<style scoped>\n",
       "    .dataframe tbody tr th:only-of-type {\n",
       "        vertical-align: middle;\n",
       "    }\n",
       "\n",
       "    .dataframe tbody tr th {\n",
       "        vertical-align: top;\n",
       "    }\n",
       "\n",
       "    .dataframe thead th {\n",
       "        text-align: right;\n",
       "    }\n",
       "</style>\n",
       "<table border=\"1\" class=\"dataframe\">\n",
       "  <thead>\n",
       "    <tr style=\"text-align: right;\">\n",
       "      <th></th>\n",
       "      <th>City</th>\n",
       "      <th>Country</th>\n",
       "      <th>Latitude</th>\n",
       "      <th>Longitude</th>\n",
       "      <th>Cloudiness (%)</th>\n",
       "      <th>Humidity (%)</th>\n",
       "      <th>Max Temp (F)</th>\n",
       "      <th>Wind Speed (mph)</th>\n",
       "      <th>Date</th>\n",
       "    </tr>\n",
       "  </thead>\n",
       "  <tbody>\n",
       "  </tbody>\n",
       "</table>\n",
       "</div>"
      ],
      "text/plain": [
       "Empty DataFrame\n",
       "Columns: [City, Country, Latitude, Longitude, Cloudiness (%), Humidity (%), Max Temp (F), Wind Speed (mph), Date]\n",
       "Index: []"
      ]
     },
     "execution_count": 20,
     "metadata": {},
     "output_type": "execute_result"
    }
   ],
   "source": [
    "humidity_df = weather_df.loc[(weather_df[\"Humidity (%)\"] > 100)]\n",
    "humidity_df.head()"
   ]
  },
  {
   "cell_type": "markdown",
   "metadata": {},
   "source": [
    "## Plotting the Data\n",
    "* Use proper labeling of the plots using plot titles (including date of analysis) and axes labels.\n",
    "* Save the plotted figures as .pngs."
   ]
  },
  {
   "cell_type": "markdown",
   "metadata": {},
   "source": [
    "## Latitude vs. Temperature Plot"
   ]
  },
  {
   "cell_type": "code",
   "execution_count": 21,
   "metadata": {
    "scrolled": true
   },
   "outputs": [
    {
     "data": {
      "image/png": "[encoded data removed]",
      "text/plain": [
       "<Figure size 432x288 with 1 Axes>"
      ]
     },
     "metadata": {
      "needs_background": "light"
     },
     "output_type": "display_data"
    }
   ],
   "source": [
    "plt.scatter(weather_df[\"Latitude\"],weather_df[\"Max Temp (F)\"],edgecolors=\"black\")\n",
    "plt.title(\"City Latitude vs. Max Temperature\")\n",
    "plt.xlabel(\"Latitude\")\n",
    "plt.ylabel(\"Max Temperature (F)\")\n",
    "plt.savefig(\"fig1.png\")\n",
    "plt.show()"
   ]
  },
  {
   "cell_type": "markdown",
   "metadata": {},
   "source": [
    "## Latitude vs. Humidity Plot"
   ]
  },
  {
   "cell_type": "code",
   "execution_count": 22,
   "metadata": {},
   "outputs": [
    {
     "data": {
      "image/png": "[encoded data removed]",
      "text/plain": [
       "<Figure size 432x288 with 1 Axes>"
      ]
     },
     "metadata": {
      "needs_background": "light"
     },
     "output_type": "display_data"
    }
   ],
   "source": [
    "plt.scatter(weather_df[\"Latitude\"],weather_df[\"Humidity (%)\"],edgecolors=\"black\")\n",
    "plt.title(\"City Latitude vs. Humidity\")\n",
    "plt.xlabel(\"Latitude\")\n",
    "plt.ylabel(\"Humidity (%)\")\n",
    "plt.ylim(15,105)\n",
    "plt.savefig(\"fig2.png\")\n",
    "plt.show()"
   ]
  },
  {
   "cell_type": "markdown",
   "metadata": {},
   "source": [
    "## Latitude vs. Cloudiness Plot"
   ]
  },
  {
   "cell_type": "code",
   "execution_count": 23,
   "metadata": {},
   "outputs": [
    {
     "data": {
      "image/png": "[encoded data removed]",
      "text/plain": [
       "<Figure size 432x288 with 1 Axes>"
      ]
     },
     "metadata": {
      "needs_background": "light"
     },
     "output_type": "display_data"
    }
   ],
   "source": [
    "plt.scatter(weather_df[\"Latitude\"],weather_df[\"Cloudiness (%)\"],edgecolors=\"black\")\n",
    "plt.title(\"City Latitude vs. Cloudiness\")\n",
    "plt.xlabel(\"Latitude\")\n",
    "plt.ylabel(\"Cloudiness (%)\")\n",
    "plt.savefig(\"fig3.png\")\n",
    "plt.show()"
   ]
  },
  {
   "cell_type": "markdown",
   "metadata": {},
   "source": [
    "## Latitude vs. Wind Speed Plot"
   ]
  },
  {
   "cell_type": "code",
   "execution_count": 24,
   "metadata": {},
   "outputs": [
    {
     "data": {
      "image/png": "[encoded data removed]",
      "text/plain": [
       "<Figure size 432x288 with 1 Axes>"
      ]
     },
     "metadata": {
      "needs_background": "light"
     },
     "output_type": "display_data"
    }
   ],
   "source": [
    "plt.scatter(weather_df[\"Latitude\"],weather_df[\"Wind Speed (mph)\"],edgecolors=\"black\")\n",
    "plt.title(\"City Latitude vs. Wind Speed\")\n",
    "plt.xlabel('Latitude')\n",
    "plt.ylabel(\"Wind Speed (mph)\")\n",
    "plt.ylim(-2,34)\n",
    "plt.savefig(\"fig4.png\")\n",
    "plt.show()"
   ]
  },
  {
   "cell_type": "markdown",
   "metadata": {},
   "source": [
    "## Linear Regression"
   ]
  },
  {
   "cell_type": "code",
   "execution_count": 26,
   "metadata": {},
   "outputs": [],
   "source": [
    "# Nothern and Souther Hemisphere dataframes\n",
    "\n",
    "northern_hemisphere_df = weather_df.loc[(weather_df['Latitude'] >= 0) & (weather_df['Longitude'] >= 0)]\n",
    "\n",
    "southern_hemisphere_df = weather_df.loc[(weather_df['Latitude'] <= 0) & (weather_df['Longitude'] <= 0)]"
   ]
  },
  {
   "cell_type": "markdown",
   "metadata": {},
   "source": [
    "####  Northern Hemisphere - Max Temp vs. Latitude Linear Regression"
   ]
  },
  {
   "cell_type": "code",
   "execution_count": 28,
   "metadata": {},
   "outputs": [
    {
     "name": "stdout",
     "output_type": "stream",
     "text": [
      "The r-value is: 0.7494867469417897\n",
      "-------------------------------------\n",
      "The distribution of Max Temperature for both hemispheres are very similar due to the fact that the highest temperatures recorded closest to the equator and coldest furthest from the equator.  Temperature seem to be more frequent in the nothern hemisphere.\n"
     ]
    },
    {
     "data": {
      "image/png": "[encoded data removed]",
      "text/plain": [
       "<Figure size 432x288 with 1 Axes>"
      ]
     },
     "metadata": {
      "needs_background": "light"
     },
     "output_type": "display_data"
    }
   ],
   "source": [
    "n_latitude = northern_hemisphere_df['Latitude']\n",
    "n_max_temp = northern_hemisphere_df['Max Temp (F)']\n",
    "\n",
    "(slope, intercept, rvalue, pvalue, stderr) = linregress(n_latitude, n_max_temp)\n",
    "regress_values = n_latitude * slope + intercept\n",
    "line_eq = \"y = \" + str(round(slope,2)) + \"x + \" + str(round(intercept,2))\n",
    "\n",
    "plt.plot(n_latitude,regress_values,\"r-\")\n",
    "plt.annotate(line_eq,(0,30),fontsize=15,color=\"red\")\n",
    "plt.xlabel(\"Latitude\")\n",
    "plt.ylabel(\"Max Temperature (F)\")\n",
    "plt.scatter(n_latitude, n_max_temp)\n",
    "\n",
    "print(f\"The r-value is: {rvalue**2}\")\n",
    "print(\"-------------------------------------\")\n",
    "print(\"The distribution of Max Temperature for both hemispheres are very similar due to the fact that the highest temperatures recorded closest to the equator and coldest furthest from the equator.  Temperature seem to be more frequent in the nothern hemisphere.\")\n",
    "plt.savefig(\"fig5.png\") \n",
    "plt.show()"
   ]
  },
  {
   "cell_type": "markdown",
   "metadata": {},
   "source": [
    "####  Southern Hemisphere - Max Temp vs. Latitude Linear Regression"
   ]
  },
  {
   "cell_type": "code",
   "execution_count": 30,
   "metadata": {},
   "outputs": [
    {
     "name": "stdout",
     "output_type": "stream",
     "text": [
      "The r-value is: 0.6755246509000202\n",
      "-------------------------------------\n",
      "The distribution of Max Temperature for both hemispheres are very similar due to the fact that the highest temperatures recorded closest to the equator and coldest furthest from the equator. \n"
     ]
    },
    {
     "data": {
      "image/png": "[encoded data removed]",
      "text/plain": [
       "<Figure size 432x288 with 1 Axes>"
      ]
     },
     "metadata": {
      "needs_background": "light"
     },
     "output_type": "display_data"
    }
   ],
   "source": [
    "s_latitude = southern_hemisphere_df['Latitude']\n",
    "s_max_temp = southern_hemisphere_df['Max Temp (F)']\n",
    "\n",
    "(slope, intercept, rvalue, pvalue, stderr) = linregress(s_latitude, s_max_temp)\n",
    "regress_values = s_latitude * slope + intercept\n",
    "line_eq = \"y = \" + str(round(slope,2)) + \"x + \" + str(round(intercept,2))\n",
    "\n",
    "plt.plot(s_latitude,regress_values,\"r-\")\n",
    "plt.annotate(line_eq,(-50,70),fontsize=15,color=\"red\")\n",
    "plt.xlabel(\"Latitude\")\n",
    "plt.ylabel(\"Max Temperature (F)\")\n",
    "plt.scatter(s_latitude, s_max_temp)\n",
    "\n",
    "print(f\"The r-value is: {rvalue**2}\")\n",
    "print(\"-------------------------------------\")\n",
    "print(\"The distribution of Max Temperature for both hemispheres are very similar due to the fact that the highest temperatures recorded closest to the equator and coldest furthest from the equator. \")\n",
    "plt.savefig(\"fig6.png\") \n",
    "plt.show()"
   ]
  },
  {
   "cell_type": "markdown",
   "metadata": {},
   "source": [
    "####  Northern Hemisphere - Humidity (%) vs. Latitude Linear Regression"
   ]
  },
  {
   "cell_type": "code",
   "execution_count": 33,
   "metadata": {},
   "outputs": [
    {
     "name": "stdout",
     "output_type": "stream",
     "text": [
      "The r-value is: 0.010550915946543345\n",
      "-------------------------------------\n",
      "Based on the linear regression of both hemispheres the increase in latitude follows with an increase in humidity. \n"
     ]
    },
    {
     "data": {
      "image/png": "[encoded data removed]",
      "text/plain": [
       "<Figure size 432x288 with 1 Axes>"
      ]
     },
     "metadata": {
      "needs_background": "light"
     },
     "output_type": "display_data"
    }
   ],
   "source": [
    "n_humidity = northern_hemisphere_df['Humidity (%)']\n",
    "\n",
    "(slope, intercept, rvalue, pvalue, stderr) = linregress(n_latitude, n_humidity)\n",
    "regress_values = n_latitude * slope + intercept\n",
    "line_eq = \"y = \" + str(round(slope,2)) + \"x + \" + str(round(intercept,2))\n",
    "\n",
    "plt.plot(n_latitude,regress_values,\"r-\")\n",
    "plt.annotate(line_eq,(0,25),fontsize=15,color=\"red\")\n",
    "plt.xlabel(\"Latitude\")\n",
    "plt.ylabel(\"Humidity (%)\")\n",
    "plt.scatter(n_latitude, n_humidity)\n",
    "\n",
    "print(f\"The r-value is: {rvalue**2}\")\n",
    "print(\"-------------------------------------\")\n",
    "print(f\"Based on the linear regression of both hemispheres the increase in latitude follows with an increase in humidity. \")\n",
    "plt.savefig(\"fig7.png\") \n",
    "plt.show()"
   ]
  },
  {
   "cell_type": "markdown",
   "metadata": {},
   "source": [
    "####  Southern Hemisphere - Humidity (%) vs. Latitude Linear Regression"
   ]
  },
  {
   "cell_type": "code",
   "execution_count": 34,
   "metadata": {},
   "outputs": [
    {
     "name": "stdout",
     "output_type": "stream",
     "text": [
      "The r-value is: 0.01920023676116791\n",
      "-------------------------------------\n",
      "Based on the linear regression of both hemispheres the increase in latitude follows with an increase in humidity.\n"
     ]
    },
    {
     "data": {
      "image/png": "[encoded data removed]",
      "text/plain": [
       "<Figure size 432x288 with 1 Axes>"
      ]
     },
     "metadata": {
      "needs_background": "light"
     },
     "output_type": "display_data"
    }
   ],
   "source": [
    "s_humidity = southern_hemisphere_df['Humidity (%)']\n",
    "\n",
    "(slope, intercept, rvalue, pvalue, stderr) = linregress(s_latitude, s_humidity)\n",
    "regress_values = s_latitude * slope + intercept\n",
    "line_eq = \"y = \" + str(round(slope,2)) + \"x + \" + str(round(intercept,2))\n",
    "\n",
    "plt.plot(s_latitude,regress_values,\"r-\")\n",
    "plt.annotate(line_eq,(-50,45),fontsize=15,color=\"red\")\n",
    "plt.xlabel(\"Latitude\")\n",
    "plt.ylabel(\"Humidity (%)\")\n",
    "plt.scatter(s_latitude, s_humidity)\n",
    "\n",
    "print(f\"The r-value is: {rvalue**2}\")\n",
    "print(\"-------------------------------------\")\n",
    "print(f\"Based on the linear regression of both hemispheres the increase in latitude follows with an increase in humidity.\")\n",
    "plt.savefig(\"fig8.png\") \n",
    "plt.show()"
   ]
  },
  {
   "cell_type": "markdown",
   "metadata": {},
   "source": [
    "####  Northern Hemisphere - Cloudiness (%) vs. Latitude Linear Regression"
   ]
  },
  {
   "cell_type": "code",
   "execution_count": 36,
   "metadata": {},
   "outputs": [
    {
     "name": "stdout",
     "output_type": "stream",
     "text": [
      "The r-value is: 0.10315967925678932\n"
     ]
    },
    {
     "data": {
      "image/png": "[encoded data removed]",
      "text/plain": [
       "<Figure size 432x288 with 1 Axes>"
      ]
     },
     "metadata": {
      "needs_background": "light"
     },
     "output_type": "display_data"
    }
   ],
   "source": [
    "n_clouds = northern_hemisphere_df['Cloudiness (%)']\n",
    "\n",
    "(slope, intercept, rvalue, pvalue, stderr) = linregress(n_latitude, n_clouds)\n",
    "regress_values = n_latitude * slope + intercept\n",
    "line_eq = \"y = \" + str(round(slope,2)) + \"x + \" + str(round(intercept,2))\n",
    "\n",
    "plt.plot(n_latitude,regress_values,\"r-\")\n",
    "plt.annotate(line_eq,(0,12),fontsize=15,color=\"red\")\n",
    "plt.xlabel(\"Latitude\")\n",
    "plt.ylabel(\"Cloudiness (%)\")\n",
    "plt.scatter(n_latitude, n_clouds)\n",
    "\n",
    "print(f\"The r-value is: {rvalue**2}\")\n",
    "\n",
    "plt.savefig(\"fig9.png\") \n",
    "plt.show()"
   ]
  },
  {
   "cell_type": "markdown",
   "metadata": {},
   "source": [
    "####  Southern Hemisphere - Cloudiness (%) vs. Latitude Linear Regression"
   ]
  },
  {
   "cell_type": "code",
   "execution_count": 37,
   "metadata": {},
   "outputs": [
    {
     "name": "stdout",
     "output_type": "stream",
     "text": [
      "The r-value is: 0.010653742026152836\n"
     ]
    },
    {
     "data": {
      "image/png": "[encoded data removed]",
      "text/plain": [
       "<Figure size 432x288 with 1 Axes>"
      ]
     },
     "metadata": {
      "needs_background": "light"
     },
     "output_type": "display_data"
    }
   ],
   "source": [
    "s_clouds = southern_hemisphere_df['Cloudiness (%)']\n",
    "\n",
    "(slope, intercept, rvalue, pvalue, stderr) = linregress(s_latitude, s_clouds)\n",
    "regress_values = s_latitude * slope + intercept\n",
    "line_eq = \"y = \" + str(round(slope,2)) + \"x + \" + str(round(intercept,2))\n",
    "\n",
    "plt.plot(s_latitude,regress_values,\"r-\")\n",
    "plt.annotate(line_eq,(-55,20),fontsize=15,color=\"red\")\n",
    "plt.xlabel(\"Latitude\")\n",
    "plt.ylabel(\"Cloudiness (%)\")\n",
    "plt.scatter(s_latitude, s_clouds)\n",
    "\n",
    "print(f\"The r-value is: {rvalue**2}\")\n",
    "plt.savefig(\"fig10.png\") \n",
    "plt.show()"
   ]
  },
  {
   "cell_type": "markdown",
   "metadata": {},
   "source": [
    "####  Northern Hemisphere - Wind Speed (mph) vs. Latitude Linear Regression"
   ]
  },
  {
   "cell_type": "code",
   "execution_count": 38,
   "metadata": {},
   "outputs": [
    {
     "name": "stdout",
     "output_type": "stream",
     "text": [
      "The r-value is: 0.01743488983386438\n"
     ]
    },
    {
     "data": {
      "image/png": "[encoded data removed]",
      "text/plain": [
       "<Figure size 432x288 with 1 Axes>"
      ]
     },
     "metadata": {
      "needs_background": "light"
     },
     "output_type": "display_data"
    }
   ],
   "source": [
    "n_wind = northern_hemisphere_df['Wind Speed (mph)']\n",
    "\n",
    "(slope, intercept, rvalue, pvalue, stderr) = linregress(n_latitude, n_wind)\n",
    "regress_values = n_latitude * slope + intercept\n",
    "line_eq = \"y = \" + str(round(slope,2)) + \"x + \" + str(round(intercept,2))\n",
    "\n",
    "plt.plot(n_latitude,regress_values,\"r-\") \n",
    "plt.annotate(line_eq,(0,23),fontsize=15,color=\"red\")\n",
    "plt.xlabel(\"Latitude\")\n",
    "plt.ylabel(\"Wind Speed (mph)\")\n",
    "plt.scatter(n_latitude, n_wind)\n",
    "\n",
    "print(f\"The r-value is: {rvalue**2}\")\n",
    "plt.savefig(\"fig11.png\") \n",
    "plt.show()\n"
   ]
  },
  {
   "cell_type": "markdown",
   "metadata": {},
   "source": [
    "####  Southern Hemisphere - Wind Speed (mph) vs. Latitude Linear Regression"
   ]
  },
  {
   "cell_type": "code",
   "execution_count": 39,
   "metadata": {},
   "outputs": [
    {
     "name": "stdout",
     "output_type": "stream",
     "text": [
      "The r-value is: 0.03403761092257093\n"
     ]
    },
    {
     "data": {
      "image/png": "[encoded data removed]",
      "text/plain": [
       "<Figure size 432x288 with 1 Axes>"
      ]
     },
     "metadata": {
      "needs_background": "light"
     },
     "output_type": "display_data"
    }
   ],
   "source": [
    "s_wind = southern_hemisphere_df['Wind Speed (mph)']\n",
    "\n",
    "(slope, intercept, rvalue, pvalue, stderr) = linregress(s_latitude, s_wind)\n",
    "regress_values = s_latitude * slope + intercept\n",
    "line_eq = \"y = \" + str(round(slope,2)) + \"x + \" + str(round(intercept,2))\n",
    "\n",
    "plt.plot(s_latitude,regress_values,\"r-\") \n",
    "plt.annotate(line_eq,(-50,18),fontsize=15,color=\"red\")\n",
    "plt.xlabel(\"Latitude\")\n",
    "plt.ylabel(\"Wind Speed (mph)\")\n",
    "plt.scatter(s_latitude, s_wind)\n",
    "\n",
    "print(f\"The r-value is: {rvalue**2}\")\n",
    "plt.savefig(\"fig12.png\") \n",
    "plt.show()"
   ]
  },
  {
   "cell_type": "code",
   "execution_count": null,
   "metadata": {},
   "outputs": [],
   "source": []
  }
 ],
 "metadata": {
  "anaconda-cloud": {},
  "kernel_info": {
   "name": "python3"
  },
  "kernelspec": {
   "display_name": "Python 3.6.10 ('PythonData')",
   "language": "python",
   "name": "python3"
  },
  "language_info": {
   "codemirror_mode": {
    "name": "ipython",
    "version": 3
   },
   "file_extension": ".py",
   "mimetype": "text/x-python",
   "name": "python",
   "nbconvert_exporter": "python",
   "pygments_lexer": "ipython3",
   "version": "3.6.10"
  },
  "latex_envs": {
   "LaTeX_envs_menu_present": true,
   "autoclose": false,
   "autocomplete": true,
   "bibliofile": "biblio.bib",
   "cite_by": "apalike",
   "current_citInitial": 1,
   "eqLabelWithNumbers": true,
   "eqNumInitial": 1,
   "hotkeys": {
    "equation": "Ctrl-E",
    "itemize": "Ctrl-I"
   },
   "labels_anchors": false,
   "latex_user_defs": false,
   "report_style_numbering": false,
   "user_envs_cfg": false
  },
  "nteract": {
   "version": "0.12.3"
  },
  "vscode": {
   "interpreter": {
    "hash": "465eebffaad3d9c596284434a69df49ea66f58790314ffa5c838cb5b36db0db5"
   }
  }
 },
 "nbformat": 4,
 "nbformat_minor": 2
}
